{
 "cells": [
  {
   "cell_type": "markdown",
   "metadata": {},
   "source": [
    "Correspondence Analysis of alcoholic beverages and where to drink them"
   ]
  },
  {
   "cell_type": "code",
   "execution_count": 1,
   "metadata": {},
   "outputs": [
    {
     "ename": "ModuleNotFoundError",
     "evalue": "No module named 'prince'",
     "output_type": "error",
     "traceback": [
      "\u001b[1;31m---------------------------------------------------------------------------\u001b[0m",
      "\u001b[1;31mModuleNotFoundError\u001b[0m                       Traceback (most recent call last)",
      "\u001b[1;32m<ipython-input-1-c41dd79123c6>\u001b[0m in \u001b[0;36m<module>\u001b[1;34m\u001b[0m\n\u001b[0;32m      2\u001b[0m \u001b[1;32mimport\u001b[0m \u001b[0mnumpy\u001b[0m \u001b[1;32mas\u001b[0m \u001b[0mnp\u001b[0m\u001b[1;33m\u001b[0m\u001b[1;33m\u001b[0m\u001b[0m\n\u001b[0;32m      3\u001b[0m \u001b[1;32mimport\u001b[0m \u001b[0mpandas\u001b[0m \u001b[1;32mas\u001b[0m \u001b[0mpd\u001b[0m\u001b[1;33m\u001b[0m\u001b[1;33m\u001b[0m\u001b[0m\n\u001b[1;32m----> 4\u001b[1;33m \u001b[1;32mfrom\u001b[0m \u001b[0mprince\u001b[0m \u001b[1;32mimport\u001b[0m \u001b[0mCA\u001b[0m\u001b[1;33m\u001b[0m\u001b[1;33m\u001b[0m\u001b[0m\n\u001b[0m\u001b[0;32m      5\u001b[0m \u001b[1;32mimport\u001b[0m \u001b[0mseaborn\u001b[0m \u001b[1;32mas\u001b[0m \u001b[0msns\u001b[0m\u001b[1;33m\u001b[0m\u001b[1;33m\u001b[0m\u001b[0m\n\u001b[0;32m      6\u001b[0m \u001b[1;32mimport\u001b[0m \u001b[0mmatplotlib\u001b[0m\u001b[1;33m.\u001b[0m\u001b[0mpyplot\u001b[0m \u001b[1;32mas\u001b[0m \u001b[0mplt\u001b[0m\u001b[1;33m\u001b[0m\u001b[1;33m\u001b[0m\u001b[0m\n",
      "\u001b[1;31mModuleNotFoundError\u001b[0m: No module named 'prince'"
     ]
    }
   ],
   "source": [
    "# Importing libs\n",
    "import numpy as np\n",
    "import pandas as pd\n",
    "from prince import CA\n",
    "import seaborn as sns\n",
    "import matplotlib.pyplot as plt\n",
    "%matplotlib inline"
   ]
  },
  {
   "cell_type": "markdown",
   "metadata": {},
   "source": [
    "Importing and processing data"
   ]
  },
  {
   "cell_type": "code",
   "execution_count": null,
   "metadata": {},
   "outputs": [],
   "source": [
    "\n",
    "df=pd.read_excel(\"data\\\\data.xlsx\",sheet_name=\"data\")\n",
    "\"\"\" \n",
    "Data from a survey that asked where was the best place (from a list of 11 places) to drink 12 types of alcoolic beverages\n",
    " \n",
    "weight: variable to match the sociodemographic characteristics of the sample to the population\n",
    " \n",
    "Variables with \"place\" and \"drink\": each column is a beverage type and it's value is the name of the place if it was select or 0 if it wasnt\n",
    "Some of the beverages that were in the survey weren't asked in this part so we will have to delete some of the variables\n",
    "\"\"\"\n",
    "df.head(5)"
   ]
  },
  {
   "cell_type": "code",
   "execution_count": null,
   "metadata": {},
   "outputs": [],
   "source": [
    "places=12 ### number of places +1\n",
    "drinks=24 ### number of drinks +1\n",
    "\n",
    "#* Getting variable names based on number of places and drinks\n",
    "var_names=[]\n",
    "for iplaces in range(1,places):\n",
    "    for idrinks in range(11,drinks):\n",
    "       var_names.append(f\"place_{iplaces}_drink_{idrinks}\") \n",
    "\n",
    "# Making one column with the values of all variables and changing it's value to binary (1 if they like the mix of the drink with the place) to make it easier to work with weights\n",
    "df2 = pd.melt(df,id_vars=['ID','weight'],value_vars=var_names, value_name=('place_and_drink')).dropna()\n",
    "df2.loc[df2['place_and_drink'] != 0, 'place_and_drink'] = 1\n",
    "\n",
    "# Applying weights\n",
    "df2['place_and_drink_weighted']=df2['place_and_drink']*df2['weight']\n",
    "# creating variable for place and drink\n",
    "for iplaces in range(1,places):    \n",
    "    for idrinks in range(11,drinks):\n",
    "        df2.loc[df2['variable']==f\"place_{iplaces}_drink_{idrinks}\",('drink')]=idrinks\n",
    "        df2.loc[df2['variable']==f\"place_{iplaces}_drink_{idrinks}\",('place')]=iplaces"
   ]
  },
  {
   "cell_type": "code",
   "execution_count": null,
   "metadata": {},
   "outputs": [],
   "source": [
    "# Creating the contingency table\n",
    "contingency_table = pd.pivot_table(\n",
    "                  df2, \n",
    "                  values='place_and_drink_weighted', \n",
    "                  index=['place'],\n",
    "                  columns=['drink'],\n",
    "                  aggfunc=np.sum\n",
    ")\n",
    "# Labeling\n",
    "column_names=[\n",
    "'Beer 1',\n",
    "'Cheap Spirit',\n",
    "'Beer 2',\n",
    "'Flavoured Spirit 4',\n",
    "'Flavoured Spirit 1',\n",
    "'Beer 3',\n",
    "'Flavoured Beer 1',\n",
    "'Flavoured Beer 2',\n",
    "'Flavoured Spirit 2',\n",
    "'Flavoured Spirit 3'\n",
    "]\n",
    "row_names=[\n",
    "'Night club',\n",
    "'Restaurant',\n",
    "'Grocery Shop',\n",
    "'Friend\\'s house',\n",
    "'Home',\n",
    "'Show',\n",
    "'House party',\n",
    "'Pub',\n",
    "'Bar',\n",
    "'Beach',\n",
    "'Pool'\n",
    "]\n",
    "contingency_table.columns=column_names\n",
    "contingency_table.index=row_names\n",
    "\n",
    "print (contingency_table)"
   ]
  },
  {
   "cell_type": "markdown",
   "metadata": {},
   "source": [
    "Preparing correspondence analysis"
   ]
  },
  {
   "cell_type": "code",
   "execution_count": null,
   "metadata": {},
   "outputs": [],
   "source": [
    "ca=CA(n_components=2,n_iter=10,random_state=18012021)\n",
    "ca.fit(contingency_table)\n",
    "ca.row_coordinates(contingency_table)\n",
    "ca.column_coordinates(contingency_table)\n",
    "# variation explained by CA.\n",
    "ca.explained_inertia_\n"
   ]
  },
  {
   "cell_type": "markdown",
   "metadata": {},
   "source": [
    "Creating Map"
   ]
  },
  {
   "cell_type": "code",
   "execution_count": null,
   "metadata": {},
   "outputs": [],
   "source": [
    "# Creating datasets with the coordinates\n",
    "coord_x=ca.row_coordinates(contingency_table)\n",
    "coord_y=ca.column_coordinates(contingency_table)\n",
    "coord_x.columns=['x','y']\n",
    "coord_y.columns=['x','y']\n",
    "# Assigning a series variable to know which coordinate belongs to places/drinks and merging dfs\n",
    "\n",
    "coord=pd.concat([coord_x.assign(series='place'),coord_y.assign(series='drink')])\n",
    "plt.figure(figsize=(10,10),dpi=1000,frameon=False)\n",
    "sns.set_theme(style=\"whitegrid\")\n",
    "plot = sns.scatterplot(\n",
    "    x='x',y='y',data=coord,hue='series',s=150,style='series',legend=False,ax=None,palette=sns.color_palette(\"flare\", 2),markers=['o','D']\n",
    ")\n",
    "\n",
    "# Adding labels to points\n",
    "i=-1\n",
    "for x, y in zip(coord['x'], coord['y']):\n",
    "    i+=1\n",
    "    color='black'\n",
    "    if i>10:    color=sns.color_palette(\"flare\", 2)[1] # Changing drinks colors\n",
    "    if x!=coord['x'].nlargest(2)[0] and x!=coord['x'].nlargest(2)[1]:\n",
    "        plt.text(x = x+0.015,y = y-0.0025,s=coord.index[i],weight='bold',color=color)\n",
    "    elif x==coord['x'].nlargest(2)[0] : # Making all labels fit in the plot\n",
    "        plt.text(x = x-0.055,y = y-0.0025,s=coord.index[i],weight='bold',color=color)\n",
    "    else:   plt.text(x = x-0.145,y = y-0.0025,s=coord.index[i],weight='bold',color=color)\n",
    "\n",
    "\n",
    "# Cleaning axes\n",
    "\n",
    "plot.set(xticklabels=[])\n",
    "plot.set(xlabel=None)\n",
    "plot.set(yticklabels=[])\n",
    "plot.set(ylabel=None)\n",
    "# Setting title\n",
    "plt.title('Association map',weight='bold',size=20)\n",
    "\n",
    "\n"
   ]
  }
 ],
 "metadata": {
  "kernelspec": {
   "display_name": "Python 3",
   "language": "python",
   "name": "python3"
  },
  "language_info": {
   "codemirror_mode": {
    "name": "ipython",
    "version": 3
   },
   "file_extension": ".py",
   "mimetype": "text/x-python",
   "name": "python",
   "nbconvert_exporter": "python",
   "pygments_lexer": "ipython3",
   "version": "3.8.5"
  },
  "varInspector": {
   "cols": {
    "lenName": 16,
    "lenType": 16,
    "lenVar": 40
   },
   "kernels_config": {
    "python": {
     "delete_cmd_postfix": "",
     "delete_cmd_prefix": "del ",
     "library": "var_list.py",
     "varRefreshCmd": "print(var_dic_list())"
    },
    "r": {
     "delete_cmd_postfix": ") ",
     "delete_cmd_prefix": "rm(",
     "library": "var_list.r",
     "varRefreshCmd": "cat(var_dic_list()) "
    }
   },
   "types_to_exclude": [
    "module",
    "function",
    "builtin_function_or_method",
    "instance",
    "_Feature"
   ],
   "window_display": false
  }
 },
 "nbformat": 4,
 "nbformat_minor": 2
}
